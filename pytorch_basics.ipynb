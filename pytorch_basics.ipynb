{
  "nbformat": 4,
  "nbformat_minor": 0,
  "metadata": {
    "colab": {
      "name": "pytorch_basics.ipynb",
      "provenance": [],
      "toc_visible": true,
      "authorship_tag": "ABX9TyPS7iy9d7UiKV/Rm66MI/iF",
      "include_colab_link": true
    },
    "kernelspec": {
      "name": "python3",
      "display_name": "Python 3"
    }
  },
  "cells": [
    {
      "cell_type": "markdown",
      "metadata": {
        "id": "view-in-github",
        "colab_type": "text"
      },
      "source": [
        "<a href=\"https://colab.research.google.com/github/chaki/colabs/blob/master/pytorch_basics.ipynb\" target=\"_parent\"><img src=\"https://colab.research.google.com/assets/colab-badge.svg\" alt=\"Open In Colab\"/></a>"
      ]
    },
    {
      "cell_type": "markdown",
      "metadata": {
        "id": "cA7sPFWgs5I0",
        "colab_type": "text"
      },
      "source": [
        "Basic PyTorch commands on CoLab\n",
        "4/2020 @chakify"
      ]
    },
    {
      "cell_type": "markdown",
      "metadata": {
        "id": "btqfUNyvy_Rj",
        "colab_type": "text"
      },
      "source": [
        "# Tensor"
      ]
    },
    {
      "cell_type": "code",
      "metadata": {
        "id": "190aQuYQs2xx",
        "colab_type": "code",
        "outputId": "91bb72c6-3936-4e40-890b-6517c81ec23d",
        "colab": {
          "base_uri": "https://localhost:8080/",
          "height": 51
        }
      },
      "source": [
        "import torch\n",
        "a = torch.ones(3)\n",
        "b = torch.zeros(4)\n",
        "print(a)\n",
        "print(b)"
      ],
      "execution_count": 0,
      "outputs": [
        {
          "output_type": "stream",
          "text": [
            "tensor([1., 1., 1.])\n",
            "tensor([0., 0., 0., 0.])\n"
          ],
          "name": "stdout"
        }
      ]
    },
    {
      "cell_type": "code",
      "metadata": {
        "id": "f-hyudtPtlA1",
        "colab_type": "code",
        "outputId": "9f78938a-05a4-4ef5-ae5f-fb73166fa073",
        "colab": {
          "base_uri": "https://localhost:8080/",
          "height": 34
        }
      },
      "source": [
        "a[1]"
      ],
      "execution_count": 0,
      "outputs": [
        {
          "output_type": "execute_result",
          "data": {
            "text/plain": [
              "tensor(1.)"
            ]
          },
          "metadata": {
            "tags": []
          },
          "execution_count": 4
        }
      ]
    },
    {
      "cell_type": "markdown",
      "metadata": {
        "id": "p2DFq65Yt3pE",
        "colab_type": "text"
      },
      "source": [
        "Tensors are stored as a one-dimensional array; it's up to the tensors to reference it properly."
      ]
    },
    {
      "cell_type": "code",
      "metadata": {
        "id": "JMz8MHm1tsDJ",
        "colab_type": "code",
        "outputId": "3fa5fc2d-8c63-4bab-ebae-02069fdbc875",
        "colab": {
          "base_uri": "https://localhost:8080/",
          "height": 34
        }
      },
      "source": [
        "points = torch.tensor([3.0, 4.0, 5.0, 7.0, 8.0, 9.0])\n",
        "points"
      ],
      "execution_count": 0,
      "outputs": [
        {
          "output_type": "execute_result",
          "data": {
            "text/plain": [
              "tensor([3., 4., 5., 7., 8., 9.])"
            ]
          },
          "metadata": {
            "tags": []
          },
          "execution_count": 5
        }
      ]
    },
    {
      "cell_type": "code",
      "metadata": {
        "id": "sXSJfuhHuUgO",
        "colab_type": "code",
        "outputId": "2c0e377b-8467-43c3-b4fa-06d9ee7916aa",
        "colab": {
          "base_uri": "https://localhost:8080/",
          "height": 34
        }
      },
      "source": [
        "points.shape"
      ],
      "execution_count": 0,
      "outputs": [
        {
          "output_type": "execute_result",
          "data": {
            "text/plain": [
              "torch.Size([6])"
            ]
          },
          "metadata": {
            "tags": []
          },
          "execution_count": 6
        }
      ]
    },
    {
      "cell_type": "code",
      "metadata": {
        "id": "FXPwCVPqujik",
        "colab_type": "code",
        "outputId": "0c07442b-a47e-499b-aaab-4f3f89979a39",
        "colab": {
          "base_uri": "https://localhost:8080/",
          "height": 136
        }
      },
      "source": [
        "points.storage()"
      ],
      "execution_count": 0,
      "outputs": [
        {
          "output_type": "execute_result",
          "data": {
            "text/plain": [
              " 3.0\n",
              " 4.0\n",
              " 5.0\n",
              " 7.0\n",
              " 8.0\n",
              " 9.0\n",
              "[torch.FloatStorage of size 6]"
            ]
          },
          "metadata": {
            "tags": []
          },
          "execution_count": 7
        }
      ]
    },
    {
      "cell_type": "code",
      "metadata": {
        "id": "wrLC6vzVu_FE",
        "colab_type": "code",
        "outputId": "147d2a42-c4bb-48fb-c39c-d3712ab9f827",
        "colab": {
          "base_uri": "https://localhost:8080/",
          "height": 34
        }
      },
      "source": [
        "points = torch.tensor([[3.0, 4.0], [5.0, 6.0], [7.0, 8.0]])\n",
        "points.size()"
      ],
      "execution_count": 0,
      "outputs": [
        {
          "output_type": "execute_result",
          "data": {
            "text/plain": [
              "torch.Size([3, 2])"
            ]
          },
          "metadata": {
            "tags": []
          },
          "execution_count": 8
        }
      ]
    },
    {
      "cell_type": "code",
      "metadata": {
        "id": "1ALOXUnHver2",
        "colab_type": "code",
        "outputId": "5bcc4f16-cf32-4e4a-f13f-996c090006f7",
        "colab": {
          "base_uri": "https://localhost:8080/",
          "height": 34
        }
      },
      "source": [
        "points.shape"
      ],
      "execution_count": 0,
      "outputs": [
        {
          "output_type": "execute_result",
          "data": {
            "text/plain": [
              "torch.Size([3, 2])"
            ]
          },
          "metadata": {
            "tags": []
          },
          "execution_count": 9
        }
      ]
    },
    {
      "cell_type": "markdown",
      "metadata": {
        "id": "dam_566GxCN7",
        "colab_type": "text"
      },
      "source": [
        "Stride: how to find col or row along the one-dimensional storage"
      ]
    },
    {
      "cell_type": "code",
      "metadata": {
        "id": "NRdh-ZUKv_5T",
        "colab_type": "code",
        "outputId": "51c2ae07-d3f9-421a-f4cc-054c0252f0fc",
        "colab": {
          "base_uri": "https://localhost:8080/",
          "height": 34
        }
      },
      "source": [
        "points.stride()"
      ],
      "execution_count": 0,
      "outputs": [
        {
          "output_type": "execute_result",
          "data": {
            "text/plain": [
              "(2, 1)"
            ]
          },
          "metadata": {
            "tags": []
          },
          "execution_count": 10
        }
      ]
    },
    {
      "cell_type": "code",
      "metadata": {
        "id": "sbmCwqaDoqNN",
        "colab_type": "code",
        "outputId": "75c325ff-a748-4182-84fe-870318222233",
        "colab": {
          "base_uri": "https://localhost:8080/",
          "height": 34
        }
      },
      "source": [
        "points.dtype"
      ],
      "execution_count": 0,
      "outputs": [
        {
          "output_type": "execute_result",
          "data": {
            "text/plain": [
              "torch.float32"
            ]
          },
          "metadata": {
            "tags": []
          },
          "execution_count": 20
        }
      ]
    },
    {
      "cell_type": "markdown",
      "metadata": {
        "id": "2VfTuuO6xDCU",
        "colab_type": "text"
      },
      "source": [
        "# Transpose"
      ]
    },
    {
      "cell_type": "code",
      "metadata": {
        "id": "odw8RvoZxDz4",
        "colab_type": "code",
        "outputId": "941ac09e-5758-464f-82b2-18f8140cf75e",
        "colab": {
          "base_uri": "https://localhost:8080/",
          "height": 51
        }
      },
      "source": [
        "points_t = points.t()\n",
        "points_t"
      ],
      "execution_count": 0,
      "outputs": [
        {
          "output_type": "execute_result",
          "data": {
            "text/plain": [
              "tensor([[3., 5., 7.],\n",
              "        [4., 6., 8.]])"
            ]
          },
          "metadata": {
            "tags": []
          },
          "execution_count": 11
        }
      ]
    },
    {
      "cell_type": "code",
      "metadata": {
        "id": "MH-UdC6yni3b",
        "colab_type": "code",
        "outputId": "c3d85bfe-568e-4384-b915-51c74f58b110",
        "colab": {
          "base_uri": "https://localhost:8080/",
          "height": 34
        }
      },
      "source": [
        "points.shape"
      ],
      "execution_count": 0,
      "outputs": [
        {
          "output_type": "execute_result",
          "data": {
            "text/plain": [
              "torch.Size([3, 2])"
            ]
          },
          "metadata": {
            "tags": []
          },
          "execution_count": 16
        }
      ]
    },
    {
      "cell_type": "code",
      "metadata": {
        "id": "2B1wBmJBxFds",
        "colab_type": "code",
        "outputId": "0c8379a9-a33c-4690-a71f-8c8970cfa70f",
        "colab": {
          "base_uri": "https://localhost:8080/",
          "height": 34
        }
      },
      "source": [
        "points_t.shape"
      ],
      "execution_count": 0,
      "outputs": [
        {
          "output_type": "execute_result",
          "data": {
            "text/plain": [
              "torch.Size([2, 3])"
            ]
          },
          "metadata": {
            "tags": []
          },
          "execution_count": 13
        }
      ]
    },
    {
      "cell_type": "markdown",
      "metadata": {
        "id": "KTKI617MyJss",
        "colab_type": "text"
      },
      "source": [
        "The original and transpose share same storage (i.e., same one-dimensional array)"
      ]
    },
    {
      "cell_type": "code",
      "metadata": {
        "id": "7rngyAdKw_jO",
        "colab_type": "code",
        "outputId": "4b84d287-f68e-4151-b185-46a8dca9d7f0",
        "colab": {
          "base_uri": "https://localhost:8080/",
          "height": 34
        }
      },
      "source": [
        "id(points.storage)"
      ],
      "execution_count": 0,
      "outputs": [
        {
          "output_type": "execute_result",
          "data": {
            "text/plain": [
              "140121533341488"
            ]
          },
          "metadata": {
            "tags": []
          },
          "execution_count": 17
        }
      ]
    },
    {
      "cell_type": "code",
      "metadata": {
        "id": "Q01ouq9Dx_6k",
        "colab_type": "code",
        "outputId": "2e9cf2e6-090a-492e-bbb2-058afc43416a",
        "colab": {
          "base_uri": "https://localhost:8080/",
          "height": 34
        }
      },
      "source": [
        "id(points_t.storage)"
      ],
      "execution_count": 0,
      "outputs": [
        {
          "output_type": "execute_result",
          "data": {
            "text/plain": [
              "140121533341488"
            ]
          },
          "metadata": {
            "tags": []
          },
          "execution_count": 18
        }
      ]
    },
    {
      "cell_type": "markdown",
      "metadata": {
        "id": "t9FwJzGUzKQJ",
        "colab_type": "text"
      },
      "source": [
        "# Indexing\n"
      ]
    },
    {
      "cell_type": "code",
      "metadata": {
        "id": "Op-WdqHBzPVi",
        "colab_type": "code",
        "outputId": "8f7f2744-443d-40ac-ef92-8113f41b099a",
        "colab": {
          "base_uri": "https://localhost:8080/",
          "height": 68
        }
      },
      "source": [
        "points"
      ],
      "execution_count": 0,
      "outputs": [
        {
          "output_type": "execute_result",
          "data": {
            "text/plain": [
              "tensor([[3., 4.],\n",
              "        [5., 6.],\n",
              "        [7., 8.]])"
            ]
          },
          "metadata": {
            "tags": []
          },
          "execution_count": 21
        }
      ]
    },
    {
      "cell_type": "code",
      "metadata": {
        "id": "T8VfWfGdzWhO",
        "colab_type": "code",
        "outputId": "2431f4e6-58de-4381-a295-f727ecb5f94d",
        "colab": {
          "base_uri": "https://localhost:8080/",
          "height": 51
        }
      },
      "source": [
        "points[1:]"
      ],
      "execution_count": 0,
      "outputs": [
        {
          "output_type": "execute_result",
          "data": {
            "text/plain": [
              "tensor([[5., 6.],\n",
              "        [7., 8.]])"
            ]
          },
          "metadata": {
            "tags": []
          },
          "execution_count": 22
        }
      ]
    },
    {
      "cell_type": "code",
      "metadata": {
        "id": "N6T_XvpdzZIu",
        "colab_type": "code",
        "outputId": "1843f4c9-bdf7-4ba2-b963-710204679e5e",
        "colab": {
          "base_uri": "https://localhost:8080/",
          "height": 34
        }
      },
      "source": [
        "points[0:1]"
      ],
      "execution_count": 0,
      "outputs": [
        {
          "output_type": "execute_result",
          "data": {
            "text/plain": [
              "tensor([[3., 4.]])"
            ]
          },
          "metadata": {
            "tags": []
          },
          "execution_count": 23
        }
      ]
    },
    {
      "cell_type": "code",
      "metadata": {
        "id": "dQwWW_u9zc0d",
        "colab_type": "code",
        "outputId": "535dba40-4951-4027-c57e-b9b62a6c9612",
        "colab": {
          "base_uri": "https://localhost:8080/",
          "height": 34
        }
      },
      "source": [
        "points[:1]"
      ],
      "execution_count": 0,
      "outputs": [
        {
          "output_type": "execute_result",
          "data": {
            "text/plain": [
              "tensor([[3., 4.]])"
            ]
          },
          "metadata": {
            "tags": []
          },
          "execution_count": 24
        }
      ]
    },
    {
      "cell_type": "code",
      "metadata": {
        "id": "G-qJCICyzfhQ",
        "colab_type": "code",
        "outputId": "400ee60c-ff88-4cb9-9e51-aef57cdaca13",
        "colab": {
          "base_uri": "https://localhost:8080/",
          "height": 51
        }
      },
      "source": [
        "points[:2]"
      ],
      "execution_count": 0,
      "outputs": [
        {
          "output_type": "execute_result",
          "data": {
            "text/plain": [
              "tensor([[3., 4.],\n",
              "        [5., 6.]])"
            ]
          },
          "metadata": {
            "tags": []
          },
          "execution_count": 25
        }
      ]
    },
    {
      "cell_type": "code",
      "metadata": {
        "id": "JvxVdF8zzj_8",
        "colab_type": "code",
        "outputId": "62fa55f7-37e0-44c7-9b0a-c7eae56f9ddb",
        "colab": {
          "base_uri": "https://localhost:8080/",
          "height": 51
        }
      },
      "source": [
        "points[1:, 1:]"
      ],
      "execution_count": 0,
      "outputs": [
        {
          "output_type": "execute_result",
          "data": {
            "text/plain": [
              "tensor([[6.],\n",
              "        [8.]])"
            ]
          },
          "metadata": {
            "tags": []
          },
          "execution_count": 26
        }
      ]
    },
    {
      "cell_type": "code",
      "metadata": {
        "id": "TKrRwrY9z1Jv",
        "colab_type": "code",
        "outputId": "34bc1db8-ada2-42c8-dd36-eb221137346e",
        "colab": {
          "base_uri": "https://localhost:8080/",
          "height": 51
        }
      },
      "source": [
        "points[1:, 0:]"
      ],
      "execution_count": 0,
      "outputs": [
        {
          "output_type": "execute_result",
          "data": {
            "text/plain": [
              "tensor([[5., 6.],\n",
              "        [7., 8.]])"
            ]
          },
          "metadata": {
            "tags": []
          },
          "execution_count": 27
        }
      ]
    },
    {
      "cell_type": "code",
      "metadata": {
        "id": "1oR6Afe0z4Uw",
        "colab_type": "code",
        "outputId": "64d8b7ad-709a-42d0-daef-84828bff07f2",
        "colab": {
          "base_uri": "https://localhost:8080/",
          "height": 34
        }
      },
      "source": [
        "points[1:, 0]"
      ],
      "execution_count": 0,
      "outputs": [
        {
          "output_type": "execute_result",
          "data": {
            "text/plain": [
              "tensor([5., 7.])"
            ]
          },
          "metadata": {
            "tags": []
          },
          "execution_count": 28
        }
      ]
    },
    {
      "cell_type": "markdown",
      "metadata": {
        "id": "TxqaFZDGpCOP",
        "colab_type": "text"
      },
      "source": [
        "# NumPy\n"
      ]
    },
    {
      "cell_type": "code",
      "metadata": {
        "id": "dFO5B6KBpEb7",
        "colab_type": "code",
        "outputId": "822c4fa9-e13d-46e7-e551-221005f3a29e",
        "colab": {
          "base_uri": "https://localhost:8080/",
          "height": 181
        }
      },
      "source": [
        "points_np = points.numpy()\n",
        "points_np"
      ],
      "execution_count": 0,
      "outputs": [
        {
          "output_type": "error",
          "ename": "NameError",
          "evalue": "ignored",
          "traceback": [
            "\u001b[0;31m---------------------------------------------------------------------------\u001b[0m",
            "\u001b[0;31mNameError\u001b[0m                                 Traceback (most recent call last)",
            "\u001b[0;32m<ipython-input-3-c9df8b1d8024>\u001b[0m in \u001b[0;36m<module>\u001b[0;34m()\u001b[0m\n\u001b[0;32m----> 1\u001b[0;31m \u001b[0mpoints_np\u001b[0m \u001b[0;34m=\u001b[0m \u001b[0mpoints\u001b[0m\u001b[0;34m.\u001b[0m\u001b[0mnumpy\u001b[0m\u001b[0;34m(\u001b[0m\u001b[0;34m)\u001b[0m\u001b[0;34m\u001b[0m\u001b[0;34m\u001b[0m\u001b[0m\n\u001b[0m\u001b[1;32m      2\u001b[0m \u001b[0mpoints_np\u001b[0m\u001b[0;34m\u001b[0m\u001b[0;34m\u001b[0m\u001b[0m\n",
            "\u001b[0;31mNameError\u001b[0m: name 'points' is not defined"
          ]
        }
      ]
    },
    {
      "cell_type": "code",
      "metadata": {
        "id": "MOeRcNLapMmK",
        "colab_type": "code",
        "outputId": "908f236b-cd4f-4ff8-8a65-1933dc0d1031",
        "colab": {
          "base_uri": "https://localhost:8080/",
          "height": 68
        }
      },
      "source": [
        "points2 = torch.from_numpy(points_np)\n",
        "points2"
      ],
      "execution_count": 0,
      "outputs": [
        {
          "output_type": "execute_result",
          "data": {
            "text/plain": [
              "tensor([[3., 4.],\n",
              "        [5., 6.],\n",
              "        [7., 8.]])"
            ]
          },
          "metadata": {
            "tags": []
          },
          "execution_count": 32
        }
      ]
    },
    {
      "cell_type": "markdown",
      "metadata": {
        "id": "VbYScvutqIqC",
        "colab_type": "text"
      },
      "source": [
        "# GPU\n"
      ]
    },
    {
      "cell_type": "code",
      "metadata": {
        "id": "899CvLWnqLi9",
        "colab_type": "code",
        "colab": {}
      },
      "source": [
        "points_gpu = torch.tensor([[3.0, 4.0], [5.0, 6.0], [7.0, 8.0]], device='cuda')"
      ],
      "execution_count": 0,
      "outputs": []
    },
    {
      "cell_type": "code",
      "metadata": {
        "id": "SpjRHT2hq3r3",
        "colab_type": "code",
        "outputId": "4a107a7f-e1c7-4c6e-b1f3-7fe0c8d5277c",
        "colab": {
          "base_uri": "https://localhost:8080/",
          "height": 68
        }
      },
      "source": [
        "points_gpu"
      ],
      "execution_count": 0,
      "outputs": [
        {
          "output_type": "execute_result",
          "data": {
            "text/plain": [
              "tensor([[3., 4.],\n",
              "        [5., 6.],\n",
              "        [7., 8.]], device='cuda:0')"
            ]
          },
          "metadata": {
            "tags": []
          },
          "execution_count": 7
        }
      ]
    },
    {
      "cell_type": "markdown",
      "metadata": {
        "id": "w7DiS6V61gg3",
        "colab_type": "text"
      },
      "source": [
        "# CSV Data\n"
      ]
    },
    {
      "cell_type": "markdown",
      "metadata": {
        "id": "MtXqT3lQNir1",
        "colab_type": "text"
      },
      "source": [
        "Mount GDrive"
      ]
    },
    {
      "cell_type": "code",
      "metadata": {
        "id": "04Mu8zl_1k8A",
        "colab_type": "code",
        "outputId": "29983d8f-d295-440d-c205-c823e074b8d2",
        "colab": {
          "base_uri": "https://localhost:8080/",
          "height": 34
        }
      },
      "source": [
        "import csv\n",
        "import numpy as np\n",
        "\n",
        "from google.colab import drive\n",
        "drive.mount('/content/gdrive')"
      ],
      "execution_count": 6,
      "outputs": [
        {
          "output_type": "stream",
          "text": [
            "Drive already mounted at /content/gdrive; to attempt to forcibly remount, call drive.mount(\"/content/gdrive\", force_remount=True).\n"
          ],
          "name": "stdout"
        }
      ]
    },
    {
      "cell_type": "markdown",
      "metadata": {
        "id": "zFv6b13ORdH-",
        "colab_type": "text"
      },
      "source": [
        "Read CSV file into NumPy"
      ]
    },
    {
      "cell_type": "markdown",
      "metadata": {
        "id": "UPccTv6JQb1l",
        "colab_type": "text"
      },
      "source": [
        "Move NumPy to Torch (FloatTensor)"
      ]
    },
    {
      "cell_type": "code",
      "metadata": {
        "id": "yo3WNPE4NXVX",
        "colab_type": "code",
        "colab": {
          "base_uri": "https://localhost:8080/",
          "height": 238
        },
        "outputId": "1254688e-6304-4d10-e267-37e3ca05b129"
      },
      "source": [
        "#wine_path = \"https://archive.ics.uci.edu/ml/machine-learning-databases/wine-quality/winequality-white.csv\"\n",
        "wine_path = \"/content/gdrive/My Drive/coding/colabs/winequality-white.csv\"\n",
        "wine_numpy = np.loadtxt(wine_path, dtype=np.float32, delimiter=\";\", skiprows=1)\n",
        "wine_numpy\n",
        "col_list = next(csv.reader(open(wine_path), delimiter=';'))\n",
        "\n",
        "wine_numpy.shape, col_list"
      ],
      "execution_count": 9,
      "outputs": [
        {
          "output_type": "execute_result",
          "data": {
            "text/plain": [
              "((4898, 12),\n",
              " ['fixed acidity',\n",
              "  'volatile acidity',\n",
              "  'citric acid',\n",
              "  'residual sugar',\n",
              "  'chlorides',\n",
              "  'free sulfur dioxide',\n",
              "  'total sulfur dioxide',\n",
              "  'density',\n",
              "  'pH',\n",
              "  'sulphates',\n",
              "  'alcohol',\n",
              "  'quality'])"
            ]
          },
          "metadata": {
            "tags": []
          },
          "execution_count": 9
        }
      ]
    },
    {
      "cell_type": "code",
      "metadata": {
        "id": "EiSeMRIrQQAY",
        "colab_type": "code",
        "colab": {
          "base_uri": "https://localhost:8080/",
          "height": 34
        },
        "outputId": "acf9c961-85d7-486e-e60c-6d00fa13b0a6"
      },
      "source": [
        "import torch\n",
        "wine = torch.from_numpy(wine_numpy)\n",
        "wine.shape, wine.type()"
      ],
      "execution_count": 13,
      "outputs": [
        {
          "output_type": "execute_result",
          "data": {
            "text/plain": [
              "(torch.Size([4898, 12]), 'torch.FloatTensor')"
            ]
          },
          "metadata": {
            "tags": []
          },
          "execution_count": 13
        }
      ]
    }
  ]
}